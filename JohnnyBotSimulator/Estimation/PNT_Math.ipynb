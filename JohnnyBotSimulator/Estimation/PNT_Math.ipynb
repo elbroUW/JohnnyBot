{
 "cells": [
  {
   "cell_type": "code",
   "execution_count": 1,
   "metadata": {},
   "outputs": [],
   "source": [
    "import matplotlib.pyplot as plt\n",
    "import numpy as np\n",
    "import sys\n",
    "import os\n",
    "\n",
    "#import symbolic math liibbrary\n",
    "import sympy as sp\n"
   ]
  },
  {
   "cell_type": "code",
   "execution_count": 2,
   "metadata": {},
   "outputs": [],
   "source": [
    "def prep_Sensor_unnorm(P, X1, X2, X3):\n",
    "    \"\"\"\n",
    "    Takes in a nozero position and sensors positions ad calculates a normalized version with the unit vectors to the sensors\n",
    "    \"\"\"\n",
    "\n",
    "    # Calculate the unit vectors to the sensors\n",
    "    r1 = np.array([X1[0] - P[0], X1[1] - P[1], X1[2] - P[2]])\n",
    "    r2 = np.array([X2[0] - P[0], X2[1] - P[1], X2[2] - P[2]])\n",
    "    r3 = np.array([X3[0] - P[0], X3[1] - P[1], X3[2] - P[2]])\n",
    "\n",
    "    # Normalize the vectors\n",
    "    r1 /= np.linalg.norm(r1)\n",
    "    r2 /= np.linalg.norm(r2)\n",
    "    r3 /= np.linalg.norm(r3)\n",
    "\n",
    "    return r1, r2, r3\n",
    "\n",
    "\n",
    "\n"
   ]
  },
  {
   "cell_type": "code",
   "execution_count": 3,
   "metadata": {},
   "outputs": [],
   "source": [
    "    \n",
    "def Q_simplfied(X1, X2, X3):\n",
    "        \n",
    "    X1 = np.vstack((X1))\n",
    "    X2 = np.vstack((X2))\n",
    "    X3 = np.vstack((X3))\n",
    "\n",
    "    G_GT = X1@X1.T + X2@X2.T + X3@X3.T\n",
    "\n",
    "    G_GT_inv = np.linalg.inv(G_GT)\n",
    "\n",
    "    HDOP = np.sqrt(G_GT_inv[0, 0]+ G_GT_inv[1, 1])\n",
    "\n",
    "    return G_GT_inv, HDOP\n"
   ]
  },
  {
   "cell_type": "code",
   "execution_count": 4,
   "metadata": {},
   "outputs": [],
   "source": [
    "def Q_analytical(P, X1, X2, X3):\n",
    "    sensor = np.array([X1, X2, X3])\n",
    "    G = []\n",
    "\n",
    "    for i in range(len(sensor)):\n",
    "        delt = sensor[i] - P\n",
    "        norm = np.linalg.norm(delt)\n",
    "        G.append(delt/norm)\n",
    "    G = np.array(G) \n",
    "\n",
    "    G_GT = G.T @ G\n",
    "    G_GT_inv = np.linalg.inv(G_GT)\n",
    "    HDOP = np.sqrt(G_GT_inv[0, 0] + G_GT_inv[1, 1])\n",
    "    return G_GT_inv, HDOP"
   ]
  },
  {
   "cell_type": "code",
   "execution_count": 5,
   "metadata": {},
   "outputs": [],
   "source": [
    "def Q_paper(P, X1, X2, X3):\n",
    "    \"\"\"\n",
    "    Takes in a position and sensors positions and calculates the Q matrix and HDOP value\n",
    "    \"\"\"\n",
    "    I = np.identity(3)\n",
    "\n",
    "    X1 = np.vstack((X1))\n",
    "    X2 = np.vstack((X2))\n",
    "    X3 = np.vstack((X3))\n",
    "\n",
    "\n",
    "    P_x_1 = I - (X1 @ X1.T)/ (X1.T @ X1)\n",
    "    P_x_2 = I - (X2 @ X2.T)/ (X2.T @ X2)\n",
    "    P_x_3 = I - (X3 @ X3.T)/ (X3.T @ X3)\n",
    "\n",
    "    P_x = P_x_1 + P_x_2 + P_x_3\n",
    "\n",
    "    G_GT_inv = np.linalg.inv(P_x)\n",
    "    HDOP = np.sqrt(G_GT_inv[0, 0] + G_GT_inv[1, 1])\n",
    "\n",
    "\n",
    "    return G_GT_inv, HDOP"
   ]
  },
  {
   "cell_type": "markdown",
   "metadata": {},
   "source": [
    "Lets explain a Position Estimation and timing system\n"
   ]
  },
  {
   "cell_type": "code",
   "execution_count": 6,
   "metadata": {},
   "outputs": [],
   "source": [
    "def Q_comparison(P, X1, X2, X3, r1, r2, r3):\n",
    "    Q_Ana, HDOP_Ana = Q_analytical(P, X1, X2, X3)\n",
    "    Q_Sim, HDOP_Sim= Q_simplfied(r1, r2, r3)\n",
    "    Q_pap, HDOP_pap= Q_paper(P, r1, r2, r3)\n",
    "\n",
    "    #print(\"Q_analytical:\" , Q_Ana)\n",
    "    #print(\"Q_simplified:\" , Q_Sim)\n",
    "    print(\"HDOP_analytical:\" , HDOP_Ana)\n",
    "    print(\"HDOP_simplified:\" , HDOP_Sim)\n",
    "    print(\"Q_paper:\" , HDOP_pap)\n",
    "    #print(\"Difference in HDOP: \", HDOP_Ana - HDOP_Sim)\n",
    "\n",
    "    return HDOP_Ana- HDOP_Sim"
   ]
  },
  {
   "cell_type": "code",
   "execution_count": 107,
   "metadata": {},
   "outputs": [],
   "source": [
    "#Initial values\n",
    "P = np.array([5.0, 5.0, 0.0])\n",
    "\n",
    "X1 = np.array([10, 20, 10])\n",
    "X2 = np.array([20, 10, 10])\n",
    "X3 = np.array([10, 10, 20])\n",
    "\n",
    "\n",
    "\n",
    "\n",
    "#sensror values\n",
    "#X1 = np.array([.707, 0.707, 0.0])\n",
    "#X2 = np.array([0.0, 1.0, 0.0])\n",
    "\n",
    "def X3_func(X3, x=.1, y=.1, z=.1):\n",
    "    X3 = np.array([X3[0] + x, X3[1] + y, X3[2] +z])\n",
    "    return X3 / np.linalg.norm(X3)\n",
    "\n",
    "\n",
    "\n",
    "\n",
    "\n"
   ]
  },
  {
   "cell_type": "code",
   "execution_count": 108,
   "metadata": {},
   "outputs": [
    {
     "name": "stdout",
     "output_type": "stream",
     "text": [
      "HDOP_analytical: 2.0626693881350726\n",
      "HDOP_simplified: 2.062669388135073\n",
      "Q_paper: 1.3582908456746463\n",
      "error at iteration 0 : -4.440892098500626e-16\n",
      "HDOP_analytical: 2.0850527469767326\n",
      "HDOP_simplified: 2.0850527469767326\n",
      "Q_paper: 1.387116454955761\n",
      "error at iteration 1 : 0.0\n",
      "HDOP_analytical: 2.1065911711001784\n",
      "HDOP_simplified: 2.106591171100179\n",
      "Q_paper: 1.408412338277138\n",
      "error at iteration 2 : -4.440892098500626e-16\n",
      "HDOP_analytical: 2.1198117374262164\n",
      "HDOP_simplified: 2.119811737426217\n",
      "Q_paper: 1.42006747068063\n",
      "error at iteration 3 : -4.440892098500626e-16\n",
      "HDOP_analytical: 2.1269452607238866\n",
      "HDOP_simplified: 2.1269452607238875\n",
      "Q_paper: 1.426036363608727\n",
      "error at iteration 4 : -8.881784197001252e-16\n",
      "HDOP_analytical: 2.1306258852972837\n",
      "HDOP_simplified: 2.1306258852972833\n",
      "Q_paper: 1.4290417037769183\n",
      "error at iteration 5 : 4.440892098500626e-16\n",
      "HDOP_analytical: 2.1324921705506075\n",
      "HDOP_simplified: 2.1324921705506084\n",
      "Q_paper: 1.4305477772030748\n",
      "error at iteration 6 : -8.881784197001252e-16\n",
      "HDOP_analytical: 2.133431471528496\n",
      "HDOP_simplified: 2.1334314715284965\n",
      "Q_paper: 1.4313014369952424\n",
      "error at iteration 7 : -4.440892098500626e-16\n",
      "HDOP_analytical: 2.133902618301933\n",
      "HDOP_simplified: 2.1339026183019336\n",
      "Q_paper: 1.431678394197401\n",
      "error at iteration 8 : -4.440892098500626e-16\n",
      "HDOP_analytical: 2.1341385602573477\n",
      "HDOP_simplified: 2.1341385602573477\n",
      "Q_paper: 1.431866901068047\n",
      "error at iteration 9 : 0.0\n"
     ]
    }
   ],
   "source": [
    "for i in range(10):\n",
    "    X3 = X3_func(X3, x=1, y=0, z=0)\n",
    "    #print(\"X3:\", X3)\n",
    "    r1, r2, r3 = prep_Sensor_unnorm(P, X1, X2, X3)\n",
    "    error = Q_comparison(P, X1, X2, X3, r1, r2, r3)\n",
    "    print(\"error at iteration\", i, \":\", error)"
   ]
  },
  {
   "cell_type": "code",
   "execution_count": null,
   "metadata": {},
   "outputs": [],
   "source": []
  },
  {
   "cell_type": "code",
   "execution_count": null,
   "metadata": {},
   "outputs": [],
   "source": []
  }
 ],
 "metadata": {
  "kernelspec": {
   "display_name": "base",
   "language": "python",
   "name": "python3"
  },
  "language_info": {
   "codemirror_mode": {
    "name": "ipython",
    "version": 3
   },
   "file_extension": ".py",
   "mimetype": "text/x-python",
   "name": "python",
   "nbconvert_exporter": "python",
   "pygments_lexer": "ipython3",
   "version": "3.9.13"
  }
 },
 "nbformat": 4,
 "nbformat_minor": 2
}
